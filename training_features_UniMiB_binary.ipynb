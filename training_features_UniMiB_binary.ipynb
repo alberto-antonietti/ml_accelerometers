{
 "cells": [
  {
   "cell_type": "code",
   "execution_count": 1,
   "id": "55f44550-603a-4b3e-8031-dbb5e2fcca1e",
   "metadata": {
    "tags": []
   },
   "outputs": [
    {
     "name": "stdout",
     "output_type": "stream",
     "text": [
      "1980\n"
     ]
    }
   ],
   "source": [
    "import numpy as np\n",
    "import pandas as pd\n",
    "from scipy.io import loadmat\n",
    "from scipy.signal import find_peaks\n",
    "from scipy import stats\n",
    "import matplotlib.pyplot as plt\n",
    "import random\n",
    "import os\n",
    "from natsort import natsorted\n",
    "from sklearn.svm import SVC\n",
    "from sklearn.ensemble import RandomForestClassifier\n",
    "from sklearn.model_selection import StratifiedKFold\n",
    "from sklearn.neighbors import KNeighborsClassifier\n",
    "from catboost import CatBoostClassifier\n",
    "from sklearn.metrics import confusion_matrix, ConfusionMatrixDisplay, f1_score\n",
    "import time\n",
    "from tqdm.notebook import tqdm\n",
    "from scipy.stats import kruskal\n",
    "import scikit_posthocs as sp\n",
    "\n",
    "FOLDNAME=\"UniMiB_raw\"\n",
    "\n",
    "path  = os.path.join(os.path.curdir, FOLDNAME)\n",
    "try:\n",
    "    os.removedirs(os.path.join(path, \".ipynb_checkpoints\"))\n",
    "except:\n",
    "    pass\n",
    "FILES = natsorted(os.listdir(path))\n",
    "N     = len(FILES)\n",
    "print(N)"
   ]
  },
  {
   "cell_type": "code",
   "execution_count": 2,
   "id": "99a88276-760c-4315-88bb-264c134bd694",
   "metadata": {
    "id": "im2fsUE6tvG1",
    "tags": []
   },
   "outputs": [],
   "source": [
    "def CI95(input_array):\n",
    "    if type(input_array) == list:\n",
    "        input_array = np.array(input_array)\n",
    "    if len(input_array.shape) > 1:\n",
    "        raise ValueError(\"Only 1-dimensional arrays can be passed to the function\")\n",
    "\n",
    "    n = len(input_array)\n",
    "    z_score = 1.645  # This is true for a CI of 95%\n",
    "    q = 0.5  # For the median\n",
    "    lower_bound = int(np.round(n * q - z_score * np.sqrt(n * q * (1 - q))))\n",
    "    upper_bound = int(np.round(n * q + z_score * np.sqrt(n * q * (1 - q))))\n",
    "    \n",
    "    sort_arr = np.sort(input_array)\n",
    "    lower_bound = sort_arr[lower_bound]\n",
    "    upper_bound = sort_arr[upper_bound]\n",
    "    \n",
    "    return [lower_bound, upper_bound]"
   ]
  },
  {
   "cell_type": "markdown",
   "id": "d5f93cdf-033b-4a0e-bb81-f39fc43dcbe8",
   "metadata": {
    "tags": []
   },
   "source": [
    "### Settings for figures"
   ]
  },
  {
   "cell_type": "code",
   "execution_count": 3,
   "id": "9470246f-977a-4ae9-9289-5a65a8d42751",
   "metadata": {
    "id": "rDbQbj0OC0m8",
    "tags": []
   },
   "outputs": [],
   "source": [
    "SMALLER_SIZE = 14\n",
    "SMALL_SIZE = 16\n",
    "MEDIUM_SIZE = 18\n",
    "BIGGER_SIZE = 20\n",
    "\n",
    "plt.rc(\"font\", size=SMALL_SIZE)  # controls default text sizes\n",
    "plt.rc(\"axes\", titlesize=BIGGER_SIZE)  # fontsize of the axes title\n",
    "plt.rc(\"axes\", labelsize=MEDIUM_SIZE)  # fontsize of the x and y labels\n",
    "plt.rc(\"xtick\", labelsize=SMALL_SIZE)  # fontsize of the tick labels\n",
    "plt.rc(\"ytick\", labelsize=SMALL_SIZE)  # fontsize of the tick labels\n",
    "plt.rc(\"legend\", fontsize=SMALLER_SIZE)  # legend fontsize\n",
    "plt.rc(\"figure\", titlesize=BIGGER_SIZE)  # fontsize of the figure title\n",
    "\n",
    "boxprops = dict(linestyle=\"-\", linewidth=2, color=\"k\")\n",
    "medianprops = dict(linestyle=\"-\", linewidth=4, color=\"k\")\n",
    "whiskerprops = dict(linestyle=\"-\", linewidth=2, color=\"k\")\n",
    "capprops = dict(linestyle=\"-\", linewidth=2, color=\"k\")"
   ]
  },
  {
   "cell_type": "markdown",
   "id": "cc9bbefc-6609-4033-99bf-bfee8b36cc70",
   "metadata": {
    "tags": []
   },
   "source": [
    "### Here we train"
   ]
  },
  {
   "cell_type": "code",
   "execution_count": 4,
   "id": "25180e42-37eb-4464-9579-d033d38b03a3",
   "metadata": {
    "tags": []
   },
   "outputs": [],
   "source": [
    "# Train here\n",
    "y = np.loadtxt(\"y_UniMiB_SHAR.csv\").astype(int)\n",
    "# We set to 0 the non-fall instances and to 1 the fall instances\n",
    "y = (y >= 9).astype(int)\n",
    "x_list = []\n",
    "y_list = []\n",
    "z_list = []\n",
    "for file in range(0, N):     \n",
    "\n",
    "    fileName= os.path.join(path, FILES[file])\n",
    "    D = np.genfromtxt(fileName, delimiter=',')  # Data = [ X Y Z time]\n",
    "    x_list.append(D[:, 0])\n",
    "    y_list.append(D[:, 1])\n",
    "    z_list.append(D[:, 2])\n",
    "    \n",
    "# Statistical Features on raw x, y and z in time domain\n",
    "X = pd.DataFrame()\n",
    "\n",
    "# mean\n",
    "X['x_mean'] = pd.Series(x_list).apply(lambda x: x.mean())\n",
    "X['y_mean'] = pd.Series(y_list).apply(lambda x: x.mean())\n",
    "X['z_mean'] = pd.Series(z_list).apply(lambda x: x.mean())\n",
    "\n",
    "# std dev\n",
    "X['x_std'] = pd.Series(x_list).apply(lambda x: x.std())\n",
    "X['y_std'] = pd.Series(y_list).apply(lambda x: x.std())\n",
    "X['z_std'] = pd.Series(z_list).apply(lambda x: x.std())\n",
    "\n",
    "# avg absolute diff\n",
    "X['x_aad'] = pd.Series(x_list).apply(lambda x: np.mean(np.absolute(x - np.mean(x))))\n",
    "X['y_aad'] = pd.Series(y_list).apply(lambda x: np.mean(np.absolute(x - np.mean(x))))\n",
    "X['z_aad'] = pd.Series(z_list).apply(lambda x: np.mean(np.absolute(x - np.mean(x))))\n",
    "\n",
    "# min\n",
    "X['x_min'] = pd.Series(x_list).apply(lambda x: x.min())\n",
    "X['y_min'] = pd.Series(y_list).apply(lambda x: x.min())\n",
    "X['z_min'] = pd.Series(z_list).apply(lambda x: x.min())\n",
    "\n",
    "# max\n",
    "X['x_max'] = pd.Series(x_list).apply(lambda x: x.max())\n",
    "X['y_max'] = pd.Series(y_list).apply(lambda x: x.max())\n",
    "X['z_max'] = pd.Series(z_list).apply(lambda x: x.max())\n",
    "\n",
    "# max-min diff\n",
    "X['x_maxmin_diff'] = X['x_max'] - X['x_min']\n",
    "X['y_maxmin_diff'] = X['y_max'] - X['y_min']\n",
    "X['z_maxmin_diff'] = X['z_max'] - X['z_min']\n",
    "\n",
    "# median\n",
    "X['x_median'] = pd.Series(x_list).apply(lambda x: np.median(x))\n",
    "X['y_median'] = pd.Series(y_list).apply(lambda x: np.median(x))\n",
    "X['z_median'] = pd.Series(z_list).apply(lambda x: np.median(x))\n",
    "\n",
    "# median abs dev \n",
    "X['x_mad'] = pd.Series(x_list).apply(lambda x: np.median(np.absolute(x - np.median(x))))\n",
    "X['y_mad'] = pd.Series(y_list).apply(lambda x: np.median(np.absolute(x - np.median(x))))\n",
    "X['z_mad'] = pd.Series(z_list).apply(lambda x: np.median(np.absolute(x - np.median(x))))\n",
    "\n",
    "# interquartile range\n",
    "X['x_IQR'] = pd.Series(x_list).apply(lambda x: np.percentile(x, 75) - np.percentile(x, 25))\n",
    "X['y_IQR'] = pd.Series(y_list).apply(lambda x: np.percentile(x, 75) - np.percentile(x, 25))\n",
    "X['z_IQR'] = pd.Series(z_list).apply(lambda x: np.percentile(x, 75) - np.percentile(x, 25))\n",
    "\n",
    "# negtive count\n",
    "X['x_neg_count'] = pd.Series(x_list).apply(lambda x: np.sum(x < 0))\n",
    "X['y_neg_count'] = pd.Series(y_list).apply(lambda x: np.sum(x < 0))\n",
    "X['z_neg_count'] = pd.Series(z_list).apply(lambda x: np.sum(x < 0))\n",
    "\n",
    "# positive count\n",
    "X['x_pos_count'] = pd.Series(x_list).apply(lambda x: np.sum(x > 0))\n",
    "X['y_pos_count'] = pd.Series(y_list).apply(lambda x: np.sum(x > 0))\n",
    "X['z_pos_count'] = pd.Series(z_list).apply(lambda x: np.sum(x > 0))\n",
    "\n",
    "# values above mean\n",
    "X['x_above_mean'] = pd.Series(x_list).apply(lambda x: np.sum(x > x.mean()))\n",
    "X['y_above_mean'] = pd.Series(y_list).apply(lambda x: np.sum(x > x.mean()))\n",
    "X['z_above_mean'] = pd.Series(z_list).apply(lambda x: np.sum(x > x.mean()))\n",
    "\n",
    "# number of peaks\n",
    "X['x_peak_count'] = pd.Series(x_list).apply(lambda x: len(find_peaks(x)[0]))\n",
    "X['y_peak_count'] = pd.Series(y_list).apply(lambda x: len(find_peaks(x)[0]))\n",
    "X['z_peak_count'] = pd.Series(z_list).apply(lambda x: len(find_peaks(x)[0]))\n",
    "\n",
    "# skewness\n",
    "X['x_skewness'] = pd.Series(x_list).apply(lambda x: stats.skew(x))\n",
    "X['y_skewness'] = pd.Series(y_list).apply(lambda x: stats.skew(x))\n",
    "X['z_skewness'] = pd.Series(z_list).apply(lambda x: stats.skew(x))\n",
    "\n",
    "# kurtosis\n",
    "X['x_kurtosis'] = pd.Series(x_list).apply(lambda x: stats.kurtosis(x))\n",
    "X['y_kurtosis'] = pd.Series(y_list).apply(lambda x: stats.kurtosis(x))\n",
    "X['z_kurtosis'] = pd.Series(z_list).apply(lambda x: stats.kurtosis(x))\n",
    "\n",
    "# energy\n",
    "X['x_energy'] = pd.Series(x_list).apply(lambda x: np.sum(x**2)/len(x))\n",
    "X['y_energy'] = pd.Series(y_list).apply(lambda x: np.sum(x**2)/len(x))\n",
    "X['z_energy'] = pd.Series(z_list).apply(lambda x: np.sum(x**2/len(x)))\n",
    "\n",
    "# avg resultant\n",
    "X['avg_result_accl'] = [i.mean() for i in ((pd.Series(x_list)**2 + pd.Series(y_list)**2 + pd.Series(z_list)**2)**0.5)]\n",
    "\n",
    "# signal magnitude area\n",
    "X['sma'] =    pd.Series(x_list).apply(lambda x: np.sum(abs(x)/len(x))) + pd.Series(y_list).apply(lambda x: np.sum(abs(x)/len(x))) \\\n",
    "                  + pd.Series(z_list).apply(lambda x: np.sum(abs(x)/len(x)))\n",
    "# converting the signals from time domain to frequency domain using FFT\n",
    "x_list_fft = pd.Series(x_list).apply(lambda x: np.abs(np.fft.fft(x))[1:len(x) // 2])\n",
    "y_list_fft = pd.Series(y_list).apply(lambda x: np.abs(np.fft.fft(x))[1:len(x) // 2])\n",
    "z_list_fft = pd.Series(z_list).apply(lambda x: np.abs(np.fft.fft(x))[1:len(x) // 2])\n",
    "\n",
    "# Statistical Features on raw x, y and z in frequency domain\n",
    "# FFT mean\n",
    "X['x_mean_fft'] = pd.Series(x_list_fft).apply(lambda x: x.mean())\n",
    "X['y_mean_fft'] = pd.Series(y_list_fft).apply(lambda x: x.mean())\n",
    "X['z_mean_fft'] = pd.Series(z_list_fft).apply(lambda x: x.mean())\n",
    "\n",
    "# FFT std dev\n",
    "X['x_std_fft'] = pd.Series(x_list_fft).apply(lambda x: x.std())\n",
    "X['y_std_fft'] = pd.Series(y_list_fft).apply(lambda x: x.std())\n",
    "X['z_std_fft'] = pd.Series(z_list_fft).apply(lambda x: x.std())\n",
    "\n",
    "# FFT avg absolute diff\n",
    "X['x_aad_fft'] = pd.Series(x_list_fft).apply(lambda x: np.mean(np.absolute(x - np.mean(x))))\n",
    "X['y_aad_fft'] = pd.Series(y_list_fft).apply(lambda x: np.mean(np.absolute(x - np.mean(x))))\n",
    "X['z_aad_fft'] = pd.Series(z_list_fft).apply(lambda x: np.mean(np.absolute(x - np.mean(x))))\n",
    "\n",
    "# FFT min\n",
    "X['x_min_fft'] = pd.Series(x_list_fft).apply(lambda x: x.min())\n",
    "X['y_min_fft'] = pd.Series(y_list_fft).apply(lambda x: x.min())\n",
    "X['z_min_fft'] = pd.Series(z_list_fft).apply(lambda x: x.min())\n",
    "\n",
    "# FFT max\n",
    "X['x_max_fft'] = pd.Series(x_list_fft).apply(lambda x: x.max())\n",
    "X['y_max_fft'] = pd.Series(y_list_fft).apply(lambda x: x.max())\n",
    "X['z_max_fft'] = pd.Series(z_list_fft).apply(lambda x: x.max())\n",
    "\n",
    "# FFT max-min diff\n",
    "X['x_maxmin_diff_fft'] = X['x_max_fft'] - X['x_min_fft']\n",
    "X['y_maxmin_diff_fft'] = X['y_max_fft'] - X['y_min_fft']\n",
    "X['z_maxmin_diff_fft'] = X['z_max_fft'] - X['z_min_fft']\n",
    "\n",
    "# FFT median\n",
    "X['x_median_fft'] = pd.Series(x_list_fft).apply(lambda x: np.median(x))\n",
    "X['y_median_fft'] = pd.Series(y_list_fft).apply(lambda x: np.median(x))\n",
    "X['z_median_fft'] = pd.Series(z_list_fft).apply(lambda x: np.median(x))\n",
    "\n",
    "# FFT median abs dev \n",
    "X['x_mad_fft'] = pd.Series(x_list_fft).apply(lambda x: np.median(np.absolute(x - np.median(x))))\n",
    "X['y_mad_fft'] = pd.Series(y_list_fft).apply(lambda x: np.median(np.absolute(x - np.median(x))))\n",
    "X['z_mad_fft'] = pd.Series(z_list_fft).apply(lambda x: np.median(np.absolute(x - np.median(x))))\n",
    "\n",
    "# FFT Interquartile range\n",
    "X['x_IQR_fft'] = pd.Series(x_list_fft).apply(lambda x: np.percentile(x, 75) - np.percentile(x, 25))\n",
    "X['y_IQR_fft'] = pd.Series(y_list_fft).apply(lambda x: np.percentile(x, 75) - np.percentile(x, 25))\n",
    "X['z_IQR_fft'] = pd.Series(z_list_fft).apply(lambda x: np.percentile(x, 75) - np.percentile(x, 25))\n",
    "\n",
    "# FFT values above mean\n",
    "X['x_above_mean_fft'] = pd.Series(x_list_fft).apply(lambda x: np.sum(x > x.mean()))\n",
    "X['y_above_mean_fft'] = pd.Series(y_list_fft).apply(lambda x: np.sum(x > x.mean()))\n",
    "X['z_above_mean_fft'] = pd.Series(z_list_fft).apply(lambda x: np.sum(x > x.mean()))\n",
    "\n",
    "# FFT number of peaks\n",
    "X['x_peak_count_fft'] = pd.Series(x_list_fft).apply(lambda x: len(find_peaks(x)[0]))\n",
    "X['y_peak_count_fft'] = pd.Series(y_list_fft).apply(lambda x: len(find_peaks(x)[0]))\n",
    "X['z_peak_count_fft'] = pd.Series(z_list_fft).apply(lambda x: len(find_peaks(x)[0]))\n",
    "\n",
    "# FFT skewness\n",
    "X['x_skewness_fft'] = pd.Series(x_list_fft).apply(lambda x: stats.skew(x))\n",
    "X['y_skewness_fft'] = pd.Series(y_list_fft).apply(lambda x: stats.skew(x))\n",
    "X['z_skewness_fft'] = pd.Series(z_list_fft).apply(lambda x: stats.skew(x))\n",
    "\n",
    "# FFT kurtosis\n",
    "X['x_kurtosis_fft'] = pd.Series(x_list_fft).apply(lambda x: stats.kurtosis(x))\n",
    "X['y_kurtosis_fft'] = pd.Series(y_list_fft).apply(lambda x: stats.kurtosis(x))\n",
    "X['z_kurtosis_fft'] = pd.Series(z_list_fft).apply(lambda x: stats.kurtosis(x))\n",
    "\n",
    "# FFT energy\n",
    "X['x_energy_fft'] = pd.Series(x_list_fft).apply(lambda x: np.sum(x**2)/len(x))\n",
    "X['y_energy_fft'] = pd.Series(y_list_fft).apply(lambda x: np.sum(x**2)/len(x))\n",
    "X['z_energy_fft'] = pd.Series(z_list_fft).apply(lambda x: np.sum(x**2/len(x)))\n",
    "\n",
    "# FFT avg resultant\n",
    "X['avg_result_accl_fft'] = [i.mean() for i in ((pd.Series(x_list_fft)**2 + pd.Series(y_list_fft)**2 + pd.Series(z_list_fft)**2)**0.5)]\n",
    "\n",
    "# FFT Signal magnitude area\n",
    "X['sma_fft'] = pd.Series(x_list_fft).apply(lambda x: np.sum(abs(x)/len(x))) + pd.Series(y_list_fft).apply(lambda x: np.sum(abs(x)/len(x))) \\\n",
    "                     + pd.Series(z_list_fft).apply(lambda x: np.sum(abs(x)/len(x)))"
   ]
  },
  {
   "cell_type": "code",
   "execution_count": 5,
   "id": "540dd15d-d4fa-4ad0-945f-2085336e47c7",
   "metadata": {
    "tags": []
   },
   "outputs": [
    {
     "data": {
      "application/vnd.jupyter.widget-view+json": {
       "model_id": "9af46c4d550b4752b3080a715dff4f74",
       "version_major": 2,
       "version_minor": 0
      },
      "text/plain": [
       "k-fold:   0%|          | 0/10 [00:00<?, ?it/s]"
      ]
     },
     "metadata": {},
     "output_type": "display_data"
    }
   ],
   "source": [
    "# define the classifiers\n",
    "svm_clf = SVC(probability=True)\n",
    "rf_clf = RandomForestClassifier(n_estimators=100)\n",
    "cat_clf = CatBoostClassifier(random_seed=89, verbose=False)\n",
    "\n",
    "\n",
    "# set up k-fold cross-validation\n",
    "skf = StratifiedKFold(n_splits=10, shuffle=True, random_state=89)\n",
    "\n",
    "svm_scores = []\n",
    "rf_scores = []\n",
    "cat_scores = []\n",
    "all_scores = []\n",
    "\n",
    "svm_F1_scores = []\n",
    "rf_F1_scores = []\n",
    "cat_F1_scores = []\n",
    "all_F1_scores = []\n",
    "\n",
    "svm_conf_matrices = []\n",
    "rf_conf_matrices = []\n",
    "cat_conf_matrices = []\n",
    "all_conf_matrices = []\n",
    "\n",
    "svm_times = []\n",
    "rf_times = []\n",
    "cat_times = []\n",
    "\n",
    "rf_importances = []\n",
    "cat_importances = []\n",
    "\n",
    "# perform k-fold cross-validation\n",
    "for train_indices, test_indices in tqdm(skf.split(X, y), total=skf.get_n_splits(), desc=\"k-fold\"):\n",
    "    X_train = X.iloc[train_indices]\n",
    "    y_train = y[train_indices]\n",
    "    X_test = X.iloc[test_indices]\n",
    "    y_test = y[test_indices]\n",
    "    \n",
    "    # train and test the classifiers\n",
    "    \n",
    "    # SVM\n",
    "    t0 = time.time()\n",
    "    svm_clf.fit(X_train, y_train)\n",
    "    svm_score = svm_clf.score(X_test, y_test)\n",
    "    svm_pred = svm_clf.predict(X_test)\n",
    "    svm_scores.append(svm_score)\n",
    "    svm_F1_scores.append(f1_score(y_test, svm_clf.predict(X_test)))\n",
    "    svm_confidence = np.max(svm_clf.predict_proba(X_test), axis=1)\n",
    "    t1 = time.time()\n",
    "    t_svm = t1 - t0\n",
    "    \n",
    "    # Random Forest\n",
    "    t0 = time.time()\n",
    "    rf_clf.fit(X_train, y_train)\n",
    "    rf_score = rf_clf.score(X_test, y_test)\n",
    "    rf_pred = rf_clf.predict(X_test)\n",
    "    rf_scores.append(rf_score)\n",
    "    rf_F1_scores.append(f1_score(y_test, rf_clf.predict(X_test)))\n",
    "    rf_confidence = np.max(rf_clf.predict_proba(X_test), axis=1)\n",
    "    t1 = time.time()\n",
    "    t_rf = t1 - t0\n",
    "    \n",
    "    # Catboost\n",
    "    t0 = time.time()\n",
    "    cat_clf.fit(X_train, y_train)\n",
    "    cat_score = cat_clf.score(X_test, y_test)\n",
    "    cat_pred = cat_clf.predict(X_test)\n",
    "    cat_scores.append(cat_score)\n",
    "    cat_F1_scores.append(f1_score(y_test, cat_clf.predict(X_test)))\n",
    "    cat_confidence = np.max(cat_clf.predict_proba(X_test), axis=1)\n",
    "    t1 = time.time()\n",
    "    t_cat = t1 - t0\n",
    "    \n",
    "    svm_times.append(t_svm)\n",
    "    rf_times.append(t_rf)\n",
    "    cat_times.append(t_cat)\n",
    "    \n",
    "    rf_importances.append(rf_clf.feature_importances_)\n",
    "    cat_importances.append(cat_clf.feature_importances_)\n",
    "    \n",
    "    \n",
    "    \n",
    "    svm_conf = confusion_matrix(y_test, svm_pred, normalize=\"true\")\n",
    "    svm_conf_matrices.append(svm_conf)\n",
    "    rf_conf = confusion_matrix(y_test, rf_pred, normalize=\"true\")\n",
    "    rf_conf_matrices.append(rf_conf)\n",
    "    cat_conf = confusion_matrix(y_test, cat_pred, normalize=\"true\")\n",
    "    cat_conf_matrices.append(cat_conf)"
   ]
  },
  {
   "cell_type": "code",
   "execution_count": 6,
   "id": "cd57021d-36b8-4821-8a40-fe575c91d3c8",
   "metadata": {
    "tags": []
   },
   "outputs": [
    {
     "name": "stdout",
     "output_type": "stream",
     "text": [
      "SVM classifier accuracy: 0.90 ± 0.02; 0.90 [0.88 0.92]\n",
      "Random Forest classifier accuracy: 1.00 ± 0.00; 1.00 [0.99 1.00]\n",
      "Catboost classifier accuracy: 1.00 ± 0.00; 1.00 [0.99 1.00]\n",
      "\n",
      "SVM F1 score: 0.93 ± 0.01; 0.93 [0.93 0.95]\n",
      "Random Forest F1 score: 1.00 ± 0.00; 1.00 [1.00 1.00]\n",
      "Catboost F1 score: 1.00 ± 0.00; 1.00 [1.00 1.00]\n",
      "\n",
      "SVM times [s]: 1.00 ± 0.17; 1.00 [0.83 1.21]\n",
      "Random Forest times [s]: 1.04 ± 0.20; 1.00 [0.82 1.26]\n",
      "Catboost times [s]: 12.09 ± 1.08; 12.25 [11.16 13.31]\n"
     ]
    }
   ],
   "source": [
    "# print the average accuracy across all folds for each classifier\n",
    "print(f'SVM classifier accuracy: {np.mean(svm_scores):.2f} ± {np.std(svm_scores):.2f}; {np.median(svm_scores):.2f} [{CI95(svm_scores)[0]:.2f} {CI95(svm_scores)[1]:.2f}]')\n",
    "print(f'Random Forest classifier accuracy: {np.mean(rf_scores):.2f} ± {np.std(rf_scores):.2f}; {np.median(rf_scores):.2f} [{CI95(rf_scores)[0]:.2f} {CI95(rf_scores)[1]:.2f}]')\n",
    "print(f'Catboost classifier accuracy: {np.mean(cat_scores):.2f} ± {np.std(cat_scores):.2f}; {np.median(cat_scores):.2f} [{CI95(cat_scores)[0]:.2f} {CI95(cat_scores)[1]:.2f}]')\n",
    "print()\n",
    "\n",
    "print(f'SVM F1 score: {np.mean(svm_F1_scores):.2f} ± {np.std(svm_F1_scores):.2f}; {np.median(svm_F1_scores):.2f} [{CI95(svm_F1_scores)[0]:.2f} {CI95(svm_F1_scores)[1]:.2f}]')\n",
    "print(f'Random Forest F1 score: {np.mean(rf_F1_scores):.2f} ± {np.std(rf_F1_scores):.2f}; {np.median(rf_F1_scores):.2f} [{CI95(rf_F1_scores)[0]:.2f} {CI95(rf_F1_scores)[1]:.2f}]')\n",
    "print(f'Catboost F1 score: {np.mean(cat_F1_scores):.2f} ± {np.std(cat_F1_scores):.2f}; {np.median(cat_F1_scores):.2f} [{CI95(cat_F1_scores)[0]:.2f} {CI95(cat_F1_scores)[1]:.2f}]')\n",
    "print()\n",
    "\n",
    "print(f'SVM times [s]: {np.mean(svm_times):.2f} ± {np.std(svm_times):.2f}; {np.median(svm_times):.2f} [{CI95(svm_times)[0]:.2f} {CI95(svm_times)[1]:.2f}]')\n",
    "print(f'Random Forest times [s]: {np.mean(rf_times):.2f} ± {np.std(rf_times):.2f}; {np.median(rf_times):.2f} [{CI95(rf_times)[0]:.2f} {CI95(rf_times)[1]:.2f}]')\n",
    "print(f'Catboost times [s]: {np.mean(cat_times):.2f} ± {np.std(cat_times):.2f}; {np.median(cat_times):.2f} [{CI95(cat_times)[0]:.2f} {CI95(cat_times)[1]:.2f}]')"
   ]
  },
  {
   "cell_type": "code",
   "execution_count": 7,
   "id": "38bd3d17-f81a-4f6f-a64f-87e97dd96061",
   "metadata": {
    "tags": []
   },
   "outputs": [
    {
     "name": "stdout",
     "output_type": "stream",
     "text": [
      "Accuracy Kruskal-Wallis test p-value: 3.4414767655673084e-05\n"
     ]
    },
    {
     "data": {
      "text/html": [
       "<div>\n",
       "<style scoped>\n",
       "    .dataframe tbody tr th:only-of-type {\n",
       "        vertical-align: middle;\n",
       "    }\n",
       "\n",
       "    .dataframe tbody tr th {\n",
       "        vertical-align: top;\n",
       "    }\n",
       "\n",
       "    .dataframe thead th {\n",
       "        text-align: right;\n",
       "    }\n",
       "</style>\n",
       "<table border=\"1\" class=\"dataframe\">\n",
       "  <thead>\n",
       "    <tr style=\"text-align: right;\">\n",
       "      <th></th>\n",
       "      <th>1</th>\n",
       "      <th>2</th>\n",
       "      <th>3</th>\n",
       "    </tr>\n",
       "  </thead>\n",
       "  <tbody>\n",
       "    <tr>\n",
       "      <th>1</th>\n",
       "      <td>1.000000</td>\n",
       "      <td>0.000209</td>\n",
       "      <td>0.000323</td>\n",
       "    </tr>\n",
       "    <tr>\n",
       "      <th>2</th>\n",
       "      <td>0.000209</td>\n",
       "      <td>1.000000</td>\n",
       "      <td>1.000000</td>\n",
       "    </tr>\n",
       "    <tr>\n",
       "      <th>3</th>\n",
       "      <td>0.000323</td>\n",
       "      <td>1.000000</td>\n",
       "      <td>1.000000</td>\n",
       "    </tr>\n",
       "  </tbody>\n",
       "</table>\n",
       "</div>"
      ],
      "text/plain": [
       "          1         2         3\n",
       "1  1.000000  0.000209  0.000323\n",
       "2  0.000209  1.000000  1.000000\n",
       "3  0.000323  1.000000  1.000000"
      ]
     },
     "metadata": {},
     "output_type": "display_data"
    },
    {
     "name": "stdout",
     "output_type": "stream",
     "text": [
      "F1-score Kruskal-Wallis test p-value: 3.708283406047047e-05\n"
     ]
    },
    {
     "data": {
      "text/html": [
       "<div>\n",
       "<style scoped>\n",
       "    .dataframe tbody tr th:only-of-type {\n",
       "        vertical-align: middle;\n",
       "    }\n",
       "\n",
       "    .dataframe tbody tr th {\n",
       "        vertical-align: top;\n",
       "    }\n",
       "\n",
       "    .dataframe thead th {\n",
       "        text-align: right;\n",
       "    }\n",
       "</style>\n",
       "<table border=\"1\" class=\"dataframe\">\n",
       "  <thead>\n",
       "    <tr style=\"text-align: right;\">\n",
       "      <th></th>\n",
       "      <th>1</th>\n",
       "      <th>2</th>\n",
       "      <th>3</th>\n",
       "    </tr>\n",
       "  </thead>\n",
       "  <tbody>\n",
       "    <tr>\n",
       "      <th>1</th>\n",
       "      <td>1.000000</td>\n",
       "      <td>0.000234</td>\n",
       "      <td>0.000323</td>\n",
       "    </tr>\n",
       "    <tr>\n",
       "      <th>2</th>\n",
       "      <td>0.000234</td>\n",
       "      <td>1.000000</td>\n",
       "      <td>1.000000</td>\n",
       "    </tr>\n",
       "    <tr>\n",
       "      <th>3</th>\n",
       "      <td>0.000323</td>\n",
       "      <td>1.000000</td>\n",
       "      <td>1.000000</td>\n",
       "    </tr>\n",
       "  </tbody>\n",
       "</table>\n",
       "</div>"
      ],
      "text/plain": [
       "          1         2         3\n",
       "1  1.000000  0.000234  0.000323\n",
       "2  0.000234  1.000000  1.000000\n",
       "3  0.000323  1.000000  1.000000"
      ]
     },
     "metadata": {},
     "output_type": "display_data"
    },
    {
     "name": "stdout",
     "output_type": "stream",
     "text": [
      "Times Kruskal-Wallis test p-value: 5.77146221352104e-05\n"
     ]
    },
    {
     "data": {
      "text/html": [
       "<div>\n",
       "<style scoped>\n",
       "    .dataframe tbody tr th:only-of-type {\n",
       "        vertical-align: middle;\n",
       "    }\n",
       "\n",
       "    .dataframe tbody tr th {\n",
       "        vertical-align: top;\n",
       "    }\n",
       "\n",
       "    .dataframe thead th {\n",
       "        text-align: right;\n",
       "    }\n",
       "</style>\n",
       "<table border=\"1\" class=\"dataframe\">\n",
       "  <thead>\n",
       "    <tr style=\"text-align: right;\">\n",
       "      <th></th>\n",
       "      <th>1</th>\n",
       "      <th>2</th>\n",
       "      <th>3</th>\n",
       "    </tr>\n",
       "  </thead>\n",
       "  <tbody>\n",
       "    <tr>\n",
       "      <th>1</th>\n",
       "      <td>1.00000</td>\n",
       "      <td>1.00000</td>\n",
       "      <td>0.00018</td>\n",
       "    </tr>\n",
       "    <tr>\n",
       "      <th>2</th>\n",
       "      <td>1.00000</td>\n",
       "      <td>1.00000</td>\n",
       "      <td>0.00093</td>\n",
       "    </tr>\n",
       "    <tr>\n",
       "      <th>3</th>\n",
       "      <td>0.00018</td>\n",
       "      <td>0.00093</td>\n",
       "      <td>1.00000</td>\n",
       "    </tr>\n",
       "  </tbody>\n",
       "</table>\n",
       "</div>"
      ],
      "text/plain": [
       "         1        2        3\n",
       "1  1.00000  1.00000  0.00018\n",
       "2  1.00000  1.00000  0.00093\n",
       "3  0.00018  0.00093  1.00000"
      ]
     },
     "metadata": {},
     "output_type": "display_data"
    }
   ],
   "source": [
    "# Perform Kruskal-Wallis test\n",
    "kw_statistic, p_value = kruskal(svm_scores, rf_scores, cat_scores)\n",
    "print(\"Accuracy Kruskal-Wallis test p-value:\", p_value)\n",
    "# Perform post hoc analysis\n",
    "display(sp.posthoc_dunn([svm_scores, rf_scores, cat_scores], p_adjust = 'bonferroni'))\n",
    "\n",
    "kw_statistic, p_value = kruskal(svm_F1_scores, rf_F1_scores, cat_F1_scores)\n",
    "print(\"F1-score Kruskal-Wallis test p-value:\", p_value)\n",
    "# Perform post hoc analysis\n",
    "display(sp.posthoc_dunn([svm_F1_scores, rf_F1_scores, cat_F1_scores], p_adjust = 'bonferroni'))\n",
    "\n",
    "kw_statistic, p_value = kruskal(svm_times, rf_times, cat_times)\n",
    "print(\"Times Kruskal-Wallis test p-value:\", p_value)\n",
    "# Perform post hoc analysis\n",
    "display(sp.posthoc_dunn([svm_times, rf_times, cat_times], p_adjust = 'bonferroni'))"
   ]
  },
  {
   "cell_type": "code",
   "execution_count": 13,
   "id": "f7971777-1971-4534-a1c9-4d243a5855b0",
   "metadata": {
    "colab": {
     "base_uri": "https://localhost:8080/",
     "height": 318
    },
    "executionInfo": {
     "elapsed": 2964,
     "status": "ok",
     "timestamp": 1627713362808,
     "user": {
      "displayName": "Alberto Antonietti",
      "photoUrl": "",
      "userId": "01395456090103269906"
     },
     "user_tz": -120
    },
    "id": "AkDyzXmunNk-",
    "outputId": "1d2d5f5b-0d40-468f-91aa-4eadce043671",
    "tags": []
   },
   "outputs": [
    {
     "data": {
      "image/png": "[encoded data removed]",
      "text/plain": [
       "<Figure size 500x400 with 1 Axes>"
      ]
     },
     "metadata": {},
     "output_type": "display_data"
    },
    {
     "data": {
      "image/png": "[encoded data removed]",
      "text/plain": [
       "<Figure size 500x400 with 1 Axes>"
      ]
     },
     "metadata": {},
     "output_type": "display_data"
    }
   ],
   "source": [
    "scores = {\"SVM\": svm_scores, \"RF\": rf_scores, \"CAT\": cat_scores}\n",
    "F1_scores = {\"SVM\": svm_F1_scores, \"RF\": rf_F1_scores, \"CAT\": cat_F1_scores}\n",
    "markers = [\"o\", \"o\", \"o\", \"o\"]\n",
    "colors = [\"black\", \"red\", \"blue\"]\n",
    "\n",
    "fig = plt.figure(figsize=(5, 4))\n",
    "for m, model in enumerate([\"SVM\", \"RF\", \"CAT\"]):\n",
    "    accuracies = np.array(scores[model]) * 100.0\n",
    "    plt.plot(np.random.normal(m, 0.05, len(accuracies)), accuracies, color=colors[m], alpha=0.25, ms=7, marker=markers[m], linestyle=\"None\", label=model)\n",
    "    \n",
    "    dataframe = pd.DataFrame(accuracies)\n",
    "    dataframe.boxplot(positions=[m], patch_artist=False, widths=(0.25),\n",
    "                      boxprops=boxprops, medianprops=medianprops, whiskerprops=whiskerprops, capprops=capprops,\n",
    "                      showfliers=False, grid=False, ax=plt.gca())\n",
    "\n",
    "plt.ylabel(\"Accuracy [%]\")\n",
    "plt.gca().spines['right'].set_visible(False)\n",
    "plt.gca().spines['top'].set_visible(False)\n",
    "plt.box(\"off\")\n",
    "plt.xticks(range(3), labels=[\"SVM\", \"RF\", \"CAT\"])\n",
    "plt.tight_layout()\n",
    "plt.ylim(86, 101)\n",
    "\n",
    "plt.savefig(\"acc_features_UniMiB_binary.png\", dpi=900)\n",
    "\n",
    "fig = plt.figure(figsize=(5, 4))\n",
    "for m, model in enumerate([\"SVM\", \"RF\", \"CAT\"]):\n",
    "    accuracies = np.array(F1_scores[model]) * 100.0\n",
    "    plt.plot(np.random.normal(m, 0.05, len(accuracies)), accuracies, color=colors[m], alpha=0.25, ms=7, marker=markers[m], linestyle=\"None\", label=model)\n",
    "    \n",
    "    dataframe = pd.DataFrame(accuracies)\n",
    "    dataframe.boxplot(positions=[m], patch_artist=False, widths=(0.25),\n",
    "                      boxprops=boxprops, medianprops=medianprops, whiskerprops=whiskerprops, capprops=capprops,\n",
    "                      showfliers=False, grid=False, ax=plt.gca())\n",
    "\n",
    "plt.ylabel(\"F1 score [%]\")\n",
    "plt.gca().spines['right'].set_visible(False)\n",
    "plt.gca().spines['top'].set_visible(False)\n",
    "plt.box(\"off\")\n",
    "plt.xticks(range(3), labels=[\"SVM\", \"RF\", \"CAT\"])\n",
    "plt.tight_layout()\n",
    "plt.ylim(54, 103)\n",
    "plt.savefig(\"F1_features_UniMiB_binary.png\", dpi=900)\n",
    "\n",
    "plt.show()"
   ]
  },
  {
   "cell_type": "code",
   "execution_count": 14,
   "id": "e922a25c-0da5-45a9-9141-399faef4169a",
   "metadata": {
    "tags": []
   },
   "outputs": [
    {
     "data": {
      "image/png": "[encoded data removed]",
      "text/plain": [
       "<Figure size 640x480 with 2 Axes>"
      ]
     },
     "metadata": {},
     "output_type": "display_data"
    },
    {
     "data": {
      "image/png": "[encoded data removed]",
      "text/plain": [
       "<Figure size 640x480 with 2 Axes>"
      ]
     },
     "metadata": {},
     "output_type": "display_data"
    },
    {
     "data": {
      "image/png": "[encoded data removed]",
      "text/plain": [
       "<Figure size 640x480 with 2 Axes>"
      ]
     },
     "metadata": {},
     "output_type": "display_data"
    }
   ],
   "source": [
    "classes = [\"Non falls\", \"Falls\"]\n",
    "\n",
    "disp = ConfusionMatrixDisplay(confusion_matrix=np.mean(svm_conf_matrices, axis=0)*100, display_labels=classes)\n",
    "disp.plot(cmap=\"gray\", values_format=\".0f\")\n",
    "for labels in disp.text_.ravel():\n",
    "    labels.set_fontsize(10)\n",
    "plt.title(\"SVM\")\n",
    "plt.savefig(\"Confusion_SVM_features_UniMiB_binary.png\", dpi=900)\n",
    "plt.show()\n",
    "\n",
    "disp = ConfusionMatrixDisplay(confusion_matrix=np.mean(rf_conf_matrices, axis=0)*100, display_labels=classes)\n",
    "disp.plot(cmap=\"gray\", values_format=\".0f\")\n",
    "for labels in disp.text_.ravel():\n",
    "    labels.set_fontsize(10)\n",
    "plt.title(\"RF\")\n",
    "plt.savefig(\"Confusion_RF_features_UniMiB_binary.png\", dpi=900)\n",
    "plt.show()\n",
    "\n",
    "disp = ConfusionMatrixDisplay(confusion_matrix=np.mean(cat_conf_matrices, axis=0)*100, display_labels=classes)\n",
    "disp.plot(cmap=\"gray\", values_format=\".0f\")\n",
    "for labels in disp.text_.ravel():\n",
    "    labels.set_fontsize(10)\n",
    "plt.title(\"CAT\")\n",
    "plt.savefig(\"Confusion_CAT_features_UniMiB_binary.png\", dpi=900)\n",
    "plt.show()"
   ]
  },
  {
   "cell_type": "code",
   "execution_count": 10,
   "id": "d6669461-bde3-4f82-a9f5-7de9cdc74e87",
   "metadata": {
    "tags": []
   },
   "outputs": [
    {
     "name": "stdout",
     "output_type": "stream",
     "text": [
      "             Feature  Importance\n",
      "82  z_peak_count_fft   10.001347\n",
      "34      y_above_mean    9.365194\n",
      "80  x_peak_count_fft    8.880778\n",
      "78  y_above_mean_fft    8.854276\n",
      "77  x_above_mean_fft    7.313049\n",
      "..               ...         ...\n",
      "0             x_mean    0.010441\n",
      "58         z_aad_fft    0.010345\n",
      "43        y_kurtosis    0.010182\n",
      "21             x_mad    0.010104\n",
      "61         z_min_fft    0.008548\n",
      "\n",
      "[94 rows x 2 columns]\n",
      "             Feature  Importance\n",
      "82  z_peak_count_fft   14.608954\n",
      "80  x_peak_count_fft   14.124289\n",
      "34      y_above_mean   10.399317\n",
      "78  y_above_mean_fft    6.551719\n",
      "35      z_above_mean    6.451991\n",
      "..               ...         ...\n",
      "72         y_mad_fft    0.126901\n",
      "12             x_max    0.122803\n",
      "84    y_skewness_fft    0.119047\n",
      "7              y_aad    0.118776\n",
      "5              z_std    0.096459\n",
      "\n",
      "[94 rows x 2 columns]\n",
      "0.8739558994790273\n"
     ]
    }
   ],
   "source": [
    "rf_feature_importances = np.mean(rf_importances, axis=0) * 100.0\n",
    "cat_feature_importances = np.mean(cat_importances, axis=0)\n",
    "\n",
    "# Create a DataFrame to display feature names and their corresponding importance scores\n",
    "rf_feature_importance_df = pd.DataFrame({'Feature': list(X.columns), 'Importance': rf_feature_importances})\n",
    "\n",
    "# Sort the features based on importance in descending order\n",
    "rf_feature_importance_df = rf_feature_importance_df.sort_values(by='Importance', ascending=False)\n",
    "\n",
    "\n",
    "# Create a DataFrame to display feature names and their corresponding importance scores\n",
    "cat_feature_importance_df = pd.DataFrame({'Feature': list(X.columns), 'Importance': cat_feature_importances})\n",
    "\n",
    "# Sort the features based on importance in descending order\n",
    "cat_feature_importance_df = cat_feature_importance_df.sort_values(by='Importance', ascending=False)\n",
    "\n",
    "# Print or visualize the feature importance\n",
    "print(rf_feature_importance_df)\n",
    "print(cat_feature_importance_df)\n",
    "\n",
    "# Check if there is a correlation between importances in RF and CAT\n",
    "print(np.corrcoef(rf_feature_importances, cat_feature_importances)[0, 1])"
   ]
  },
  {
   "cell_type": "code",
   "execution_count": 11,
   "id": "5f848771-7d3b-46bd-a21c-b0c3161f68dc",
   "metadata": {
    "tags": []
   },
   "outputs": [
    {
     "name": "stdout",
     "output_type": "stream",
     "text": [
      "29.574630652607095 36.42321953989851 33.81848874468165 51.626266055381244\n",
      "30.428287032871907 32.798473520975655 35.25021834790257 61.776319124374396\n"
     ]
    }
   ],
   "source": [
    "rf_x_imp = 0\n",
    "rf_y_imp = 0\n",
    "rf_z_imp = 0\n",
    "rf_fft_imp = 0\n",
    "\n",
    "for feat, imp in zip(rf_feature_importance_df[\"Feature\"], rf_feature_importance_df[\"Importance\"]):\n",
    "    if feat[0] == \"x\":\n",
    "        rf_x_imp += imp\n",
    "    elif feat[0] == \"y\":\n",
    "        rf_y_imp += imp\n",
    "    elif feat[0] == \"z\":\n",
    "        rf_z_imp += imp\n",
    "    if feat[-3:] == \"fft\":\n",
    "        rf_fft_imp += imp\n",
    "\n",
    "cat_x_imp = 0\n",
    "cat_y_imp = 0\n",
    "cat_z_imp = 0\n",
    "cat_fft_imp = 0\n",
    "\n",
    "for feat, imp in zip(cat_feature_importance_df[\"Feature\"], cat_feature_importance_df[\"Importance\"]):\n",
    "    if feat[0] == \"x\":\n",
    "        cat_x_imp += imp\n",
    "    elif feat[0] == \"y\":\n",
    "        cat_y_imp += imp\n",
    "    elif feat[0] == \"z\":\n",
    "        cat_z_imp += imp\n",
    "    if feat[-3:] == \"fft\":\n",
    "        cat_fft_imp += imp\n",
    "        \n",
    "print(rf_x_imp, rf_y_imp, rf_z_imp, rf_fft_imp)\n",
    "print(cat_x_imp, cat_y_imp, cat_z_imp, cat_fft_imp)"
   ]
  }
 ],
 "metadata": {
  "kernelspec": {
   "display_name": "Python 3 (ipykernel)",
   "language": "python",
   "name": "python3"
  },
  "language_info": {
   "codemirror_mode": {
    "name": "ipython",
    "version": 3
   },
   "file_extension": ".py",
   "mimetype": "text/x-python",
   "name": "python",
   "nbconvert_exporter": "python",
   "pygments_lexer": "ipython3",
   "version": "3.10.12"
  }
 },
 "nbformat": 4,
 "nbformat_minor": 5
}
