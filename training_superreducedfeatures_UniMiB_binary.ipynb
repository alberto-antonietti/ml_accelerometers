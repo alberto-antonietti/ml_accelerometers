{
 "cells": [
  {
   "cell_type": "code",
   "execution_count": 1,
   "id": "55f44550-603a-4b3e-8031-dbb5e2fcca1e",
   "metadata": {
    "tags": []
   },
   "outputs": [
    {
     "name": "stdout",
     "output_type": "stream",
     "text": [
      "1980\n"
     ]
    }
   ],
   "source": [
    "import numpy as np\n",
    "import pandas as pd\n",
    "from scipy.io import loadmat\n",
    "from scipy.signal import find_peaks\n",
    "from scipy import stats\n",
    "import matplotlib.pyplot as plt\n",
    "import random\n",
    "import os\n",
    "from natsort import natsorted\n",
    "from sklearn.svm import SVC\n",
    "from sklearn.ensemble import RandomForestClassifier\n",
    "from sklearn.model_selection import StratifiedKFold\n",
    "from sklearn.neighbors import KNeighborsClassifier\n",
    "from catboost import CatBoostClassifier\n",
    "from sklearn.metrics import confusion_matrix, ConfusionMatrixDisplay, f1_score\n",
    "import time\n",
    "from tqdm.notebook import tqdm\n",
    "from scipy.stats import kruskal\n",
    "import scikit_posthocs as sp\n",
    "\n",
    "FOLDNAME=\"UniMiB_raw\"\n",
    "\n",
    "path  = os.path.join(os.path.curdir, FOLDNAME)\n",
    "try:\n",
    "    os.removedirs(os.path.join(path, \".ipynb_checkpoints\"))\n",
    "except:\n",
    "    pass\n",
    "FILES = natsorted(os.listdir(path))\n",
    "N     = len(FILES)\n",
    "print(N)"
   ]
  },
  {
   "cell_type": "code",
   "execution_count": 2,
   "id": "99a88276-760c-4315-88bb-264c134bd694",
   "metadata": {
    "id": "im2fsUE6tvG1",
    "tags": []
   },
   "outputs": [],
   "source": [
    "def CI95(input_array):\n",
    "    if type(input_array) == list:\n",
    "        input_array = np.array(input_array)\n",
    "    if len(input_array.shape) > 1:\n",
    "        raise ValueError(\"Only 1-dimensional arrays can be passed to the function\")\n",
    "\n",
    "    n = len(input_array)\n",
    "    z_score = 1.645  # This is true for a CI of 95%\n",
    "    q = 0.5  # For the median\n",
    "    lower_bound = int(np.round(n * q - z_score * np.sqrt(n * q * (1 - q))))\n",
    "    upper_bound = int(np.round(n * q + z_score * np.sqrt(n * q * (1 - q))))\n",
    "    \n",
    "    sort_arr = np.sort(input_array)\n",
    "    lower_bound = sort_arr[lower_bound]\n",
    "    upper_bound = sort_arr[upper_bound]\n",
    "    \n",
    "    return [lower_bound, upper_bound]"
   ]
  },
  {
   "cell_type": "markdown",
   "id": "d5f93cdf-033b-4a0e-bb81-f39fc43dcbe8",
   "metadata": {
    "tags": []
   },
   "source": [
    "### Settings for figures"
   ]
  },
  {
   "cell_type": "code",
   "execution_count": 3,
   "id": "9470246f-977a-4ae9-9289-5a65a8d42751",
   "metadata": {
    "id": "rDbQbj0OC0m8",
    "tags": []
   },
   "outputs": [],
   "source": [
    "SMALLER_SIZE = 14\n",
    "SMALL_SIZE = 16\n",
    "MEDIUM_SIZE = 18\n",
    "BIGGER_SIZE = 20\n",
    "\n",
    "plt.rc(\"font\", size=SMALL_SIZE)  # controls default text sizes\n",
    "plt.rc(\"axes\", titlesize=BIGGER_SIZE)  # fontsize of the axes title\n",
    "plt.rc(\"axes\", labelsize=MEDIUM_SIZE)  # fontsize of the x and y labels\n",
    "plt.rc(\"xtick\", labelsize=SMALL_SIZE)  # fontsize of the tick labels\n",
    "plt.rc(\"ytick\", labelsize=SMALL_SIZE)  # fontsize of the tick labels\n",
    "plt.rc(\"legend\", fontsize=SMALLER_SIZE)  # legend fontsize\n",
    "plt.rc(\"figure\", titlesize=BIGGER_SIZE)  # fontsize of the figure title\n",
    "\n",
    "boxprops = dict(linestyle=\"-\", linewidth=2, color=\"k\")\n",
    "medianprops = dict(linestyle=\"-\", linewidth=4, color=\"k\")\n",
    "whiskerprops = dict(linestyle=\"-\", linewidth=2, color=\"k\")\n",
    "capprops = dict(linestyle=\"-\", linewidth=2, color=\"k\")"
   ]
  },
  {
   "cell_type": "markdown",
   "id": "cc9bbefc-6609-4033-99bf-bfee8b36cc70",
   "metadata": {
    "tags": []
   },
   "source": [
    "### Here we train"
   ]
  },
  {
   "cell_type": "code",
   "execution_count": 4,
   "id": "25180e42-37eb-4464-9579-d033d38b03a3",
   "metadata": {
    "tags": []
   },
   "outputs": [],
   "source": [
    "# Train here\n",
    "y = np.loadtxt(\"y_UniMiB_SHAR.csv\").astype(int)\n",
    "# We set to 0 the non-fall instances and to 1 the fall instances\n",
    "y = (y >= 9).astype(int)\n",
    "x_list = []\n",
    "y_list = []\n",
    "z_list = []\n",
    "for file in range(0, N):     \n",
    "\n",
    "    fileName= os.path.join(path, FILES[file])\n",
    "    D = np.genfromtxt(fileName, delimiter=',')  # Data = [ X Y Z time]\n",
    "    x_list.append(D[:, 0])\n",
    "    y_list.append(D[:, 1])\n",
    "    z_list.append(D[:, 2])\n",
    "    \n",
    "# Statistical Features on raw x, y and z in time domain\n",
    "X = pd.DataFrame()\n",
    "\n",
    "# mean\n",
    "X['x_mean'] = pd.Series(x_list).apply(lambda x: x.mean())\n",
    "X['y_mean'] = pd.Series(y_list).apply(lambda x: x.mean())\n",
    "X['z_mean'] = pd.Series(z_list).apply(lambda x: x.mean())\n",
    "\n",
    "# std dev\n",
    "X['x_std'] = pd.Series(x_list).apply(lambda x: x.std())\n",
    "X['y_std'] = pd.Series(y_list).apply(lambda x: x.std())\n",
    "X['z_std'] = pd.Series(z_list).apply(lambda x: x.std())\n",
    "\n",
    "# avg absolute diff\n",
    "X['x_aad'] = pd.Series(x_list).apply(lambda x: np.mean(np.absolute(x - np.mean(x))))\n",
    "X['y_aad'] = pd.Series(y_list).apply(lambda x: np.mean(np.absolute(x - np.mean(x))))\n",
    "X['z_aad'] = pd.Series(z_list).apply(lambda x: np.mean(np.absolute(x - np.mean(x))))\n",
    "\n",
    "# min\n",
    "X['x_min'] = pd.Series(x_list).apply(lambda x: x.min())\n",
    "X['y_min'] = pd.Series(y_list).apply(lambda x: x.min())\n",
    "X['z_min'] = pd.Series(z_list).apply(lambda x: x.min())\n",
    "\n",
    "# max\n",
    "X['x_max'] = pd.Series(x_list).apply(lambda x: x.max())\n",
    "X['y_max'] = pd.Series(y_list).apply(lambda x: x.max())\n",
    "X['z_max'] = pd.Series(z_list).apply(lambda x: x.max())\n",
    "\n",
    "# max-min diff\n",
    "X['x_maxmin_diff'] = X['x_max'] - X['x_min']\n",
    "X['y_maxmin_diff'] = X['y_max'] - X['y_min']\n",
    "X['z_maxmin_diff'] = X['z_max'] - X['z_min']\n",
    "\n",
    "# median\n",
    "X['x_median'] = pd.Series(x_list).apply(lambda x: np.median(x))\n",
    "X['y_median'] = pd.Series(y_list).apply(lambda x: np.median(x))\n",
    "X['z_median'] = pd.Series(z_list).apply(lambda x: np.median(x))\n",
    "\n",
    "# median abs dev \n",
    "X['x_mad'] = pd.Series(x_list).apply(lambda x: np.median(np.absolute(x - np.median(x))))\n",
    "X['y_mad'] = pd.Series(y_list).apply(lambda x: np.median(np.absolute(x - np.median(x))))\n",
    "X['z_mad'] = pd.Series(z_list).apply(lambda x: np.median(np.absolute(x - np.median(x))))\n",
    "\n",
    "# interquartile range\n",
    "X['x_IQR'] = pd.Series(x_list).apply(lambda x: np.percentile(x, 75) - np.percentile(x, 25))\n",
    "X['y_IQR'] = pd.Series(y_list).apply(lambda x: np.percentile(x, 75) - np.percentile(x, 25))\n",
    "X['z_IQR'] = pd.Series(z_list).apply(lambda x: np.percentile(x, 75) - np.percentile(x, 25))"
   ]
  },
  {
   "cell_type": "code",
   "execution_count": 5,
   "id": "540dd15d-d4fa-4ad0-945f-2085336e47c7",
   "metadata": {
    "tags": []
   },
   "outputs": [
    {
     "data": {
      "application/vnd.jupyter.widget-view+json": {
       "model_id": "16bfe7cc5b0f406a84d2503b4ef14719",
       "version_major": 2,
       "version_minor": 0
      },
      "text/plain": [
       "k-fold:   0%|          | 0/10 [00:00<?, ?it/s]"
      ]
     },
     "metadata": {},
     "output_type": "display_data"
    }
   ],
   "source": [
    "# define the classifiers\n",
    "svm_clf = SVC(probability=True)\n",
    "rf_clf = RandomForestClassifier(n_estimators=100)\n",
    "cat_clf = CatBoostClassifier(random_seed=89, verbose=False)\n",
    "\n",
    "\n",
    "# set up k-fold cross-validation\n",
    "skf = StratifiedKFold(n_splits=10, shuffle=True, random_state=89)\n",
    "\n",
    "svm_scores = []\n",
    "rf_scores = []\n",
    "cat_scores = []\n",
    "all_scores = []\n",
    "\n",
    "svm_F1_scores = []\n",
    "rf_F1_scores = []\n",
    "cat_F1_scores = []\n",
    "all_F1_scores = []\n",
    "\n",
    "svm_conf_matrices = []\n",
    "rf_conf_matrices = []\n",
    "cat_conf_matrices = []\n",
    "all_conf_matrices = []\n",
    "\n",
    "svm_times = []\n",
    "rf_times = []\n",
    "cat_times = []\n",
    "\n",
    "rf_importances = []\n",
    "cat_importances = []\n",
    "\n",
    "# perform k-fold cross-validation\n",
    "for train_indices, test_indices in tqdm(skf.split(X, y), total=skf.get_n_splits(), desc=\"k-fold\"):\n",
    "    X_train = X.iloc[train_indices]\n",
    "    y_train = y[train_indices]\n",
    "    X_test = X.iloc[test_indices]\n",
    "    y_test = y[test_indices]\n",
    "    \n",
    "    # train and test the classifiers\n",
    "    \n",
    "    # SVM\n",
    "    t0 = time.time()\n",
    "    svm_clf.fit(X_train, y_train)\n",
    "    svm_score = svm_clf.score(X_test, y_test)\n",
    "    svm_pred = svm_clf.predict(X_test)\n",
    "    svm_scores.append(svm_score)\n",
    "    svm_F1_scores.append(f1_score(y_test, svm_clf.predict(X_test)))\n",
    "    svm_confidence = np.max(svm_clf.predict_proba(X_test), axis=1)\n",
    "    t1 = time.time()\n",
    "    t_svm = t1 - t0\n",
    "    \n",
    "    # Random Forest\n",
    "    t0 = time.time()\n",
    "    rf_clf.fit(X_train, y_train)\n",
    "    rf_score = rf_clf.score(X_test, y_test)\n",
    "    rf_pred = rf_clf.predict(X_test)\n",
    "    rf_scores.append(rf_score)\n",
    "    rf_F1_scores.append(f1_score(y_test, rf_clf.predict(X_test)))\n",
    "    rf_confidence = np.max(rf_clf.predict_proba(X_test), axis=1)\n",
    "    t1 = time.time()\n",
    "    t_rf = t1 - t0\n",
    "    \n",
    "    # Catboost\n",
    "    t0 = time.time()\n",
    "    cat_clf.fit(X_train, y_train)\n",
    "    cat_score = cat_clf.score(X_test, y_test)\n",
    "    cat_pred = cat_clf.predict(X_test)\n",
    "    cat_scores.append(cat_score)\n",
    "    cat_F1_scores.append(f1_score(y_test, cat_clf.predict(X_test)))\n",
    "    cat_confidence = np.max(cat_clf.predict_proba(X_test), axis=1)\n",
    "    t1 = time.time()\n",
    "    t_cat = t1 - t0\n",
    "    \n",
    "    svm_times.append(t_svm)\n",
    "    rf_times.append(t_rf)\n",
    "    cat_times.append(t_cat)\n",
    "    \n",
    "    rf_importances.append(rf_clf.feature_importances_)\n",
    "    cat_importances.append(cat_clf.feature_importances_)\n",
    "    \n",
    "    \n",
    "    \n",
    "    svm_conf = confusion_matrix(y_test, svm_pred, normalize=\"true\")\n",
    "    svm_conf_matrices.append(svm_conf)\n",
    "    rf_conf = confusion_matrix(y_test, rf_pred, normalize=\"true\")\n",
    "    rf_conf_matrices.append(rf_conf)\n",
    "    cat_conf = confusion_matrix(y_test, cat_pred, normalize=\"true\")\n",
    "    cat_conf_matrices.append(cat_conf)"
   ]
  },
  {
   "cell_type": "code",
   "execution_count": 6,
   "id": "cd57021d-36b8-4821-8a40-fe575c91d3c8",
   "metadata": {
    "tags": []
   },
   "outputs": [
    {
     "name": "stdout",
     "output_type": "stream",
     "text": [
      "SVM classifier accuracy: 0.94 ± 0.02; 0.94 [0.94 0.97]\n",
      "Random Forest classifier accuracy: 0.97 ± 0.01; 0.97 [0.96 0.98]\n",
      "Catboost classifier accuracy: 0.98 ± 0.00; 0.98 [0.97 0.98]\n",
      "\n",
      "SVM F1 score: 0.96 ± 0.01; 0.96 [0.96 0.98]\n",
      "Random Forest F1 score: 0.98 ± 0.01; 0.98 [0.98 0.99]\n",
      "Catboost F1 score: 0.99 ± 0.00; 0.99 [0.98 0.99]\n",
      "\n",
      "SVM times [s]: 0.51 ± 0.18; 0.44 [0.40 0.86]\n",
      "Random Forest times [s]: 1.04 ± 0.31; 0.93 [0.83 1.31]\n",
      "Catboost times [s]: 3.16 ± 0.66; 3.09 [2.60 3.91]\n"
     ]
    }
   ],
   "source": [
    "# print the average accuracy across all folds for each classifier\n",
    "print(f'SVM classifier accuracy: {np.mean(svm_scores):.2f} ± {np.std(svm_scores):.2f}; {np.median(svm_scores):.2f} [{CI95(svm_scores)[0]:.2f} {CI95(svm_scores)[1]:.2f}]')\n",
    "print(f'Random Forest classifier accuracy: {np.mean(rf_scores):.2f} ± {np.std(rf_scores):.2f}; {np.median(rf_scores):.2f} [{CI95(rf_scores)[0]:.2f} {CI95(rf_scores)[1]:.2f}]')\n",
    "print(f'Catboost classifier accuracy: {np.mean(cat_scores):.2f} ± {np.std(cat_scores):.2f}; {np.median(cat_scores):.2f} [{CI95(cat_scores)[0]:.2f} {CI95(cat_scores)[1]:.2f}]')\n",
    "print()\n",
    "\n",
    "print(f'SVM F1 score: {np.mean(svm_F1_scores):.2f} ± {np.std(svm_F1_scores):.2f}; {np.median(svm_F1_scores):.2f} [{CI95(svm_F1_scores)[0]:.2f} {CI95(svm_F1_scores)[1]:.2f}]')\n",
    "print(f'Random Forest F1 score: {np.mean(rf_F1_scores):.2f} ± {np.std(rf_F1_scores):.2f}; {np.median(rf_F1_scores):.2f} [{CI95(rf_F1_scores)[0]:.2f} {CI95(rf_F1_scores)[1]:.2f}]')\n",
    "print(f'Catboost F1 score: {np.mean(cat_F1_scores):.2f} ± {np.std(cat_F1_scores):.2f}; {np.median(cat_F1_scores):.2f} [{CI95(cat_F1_scores)[0]:.2f} {CI95(cat_F1_scores)[1]:.2f}]')\n",
    "print()\n",
    "\n",
    "print(f'SVM times [s]: {np.mean(svm_times):.2f} ± {np.std(svm_times):.2f}; {np.median(svm_times):.2f} [{CI95(svm_times)[0]:.2f} {CI95(svm_times)[1]:.2f}]')\n",
    "print(f'Random Forest times [s]: {np.mean(rf_times):.2f} ± {np.std(rf_times):.2f}; {np.median(rf_times):.2f} [{CI95(rf_times)[0]:.2f} {CI95(rf_times)[1]:.2f}]')\n",
    "print(f'Catboost times [s]: {np.mean(cat_times):.2f} ± {np.std(cat_times):.2f}; {np.median(cat_times):.2f} [{CI95(cat_times)[0]:.2f} {CI95(cat_times)[1]:.2f}]')"
   ]
  },
  {
   "cell_type": "code",
   "execution_count": 7,
   "id": "38bd3d17-f81a-4f6f-a64f-87e97dd96061",
   "metadata": {
    "tags": []
   },
   "outputs": [
    {
     "name": "stdout",
     "output_type": "stream",
     "text": [
      "Accuracy Kruskal-Wallis test p-value: 0.00044799333269860954\n"
     ]
    },
    {
     "data": {
      "text/html": [
       "<div>\n",
       "<style scoped>\n",
       "    .dataframe tbody tr th:only-of-type {\n",
       "        vertical-align: middle;\n",
       "    }\n",
       "\n",
       "    .dataframe tbody tr th {\n",
       "        vertical-align: top;\n",
       "    }\n",
       "\n",
       "    .dataframe thead th {\n",
       "        text-align: right;\n",
       "    }\n",
       "</style>\n",
       "<table border=\"1\" class=\"dataframe\">\n",
       "  <thead>\n",
       "    <tr style=\"text-align: right;\">\n",
       "      <th></th>\n",
       "      <th>1</th>\n",
       "      <th>2</th>\n",
       "      <th>3</th>\n",
       "    </tr>\n",
       "  </thead>\n",
       "  <tbody>\n",
       "    <tr>\n",
       "      <th>1</th>\n",
       "      <td>1.000000</td>\n",
       "      <td>0.020767</td>\n",
       "      <td>0.000401</td>\n",
       "    </tr>\n",
       "    <tr>\n",
       "      <th>2</th>\n",
       "      <td>0.020767</td>\n",
       "      <td>1.000000</td>\n",
       "      <td>0.789675</td>\n",
       "    </tr>\n",
       "    <tr>\n",
       "      <th>3</th>\n",
       "      <td>0.000401</td>\n",
       "      <td>0.789675</td>\n",
       "      <td>1.000000</td>\n",
       "    </tr>\n",
       "  </tbody>\n",
       "</table>\n",
       "</div>"
      ],
      "text/plain": [
       "          1         2         3\n",
       "1  1.000000  0.020767  0.000401\n",
       "2  0.020767  1.000000  0.789675\n",
       "3  0.000401  0.789675  1.000000"
      ]
     },
     "metadata": {},
     "output_type": "display_data"
    },
    {
     "name": "stdout",
     "output_type": "stream",
     "text": [
      "F1-score Kruskal-Wallis test p-value: 0.0002570601400982873\n"
     ]
    },
    {
     "data": {
      "text/html": [
       "<div>\n",
       "<style scoped>\n",
       "    .dataframe tbody tr th:only-of-type {\n",
       "        vertical-align: middle;\n",
       "    }\n",
       "\n",
       "    .dataframe tbody tr th {\n",
       "        vertical-align: top;\n",
       "    }\n",
       "\n",
       "    .dataframe thead th {\n",
       "        text-align: right;\n",
       "    }\n",
       "</style>\n",
       "<table border=\"1\" class=\"dataframe\">\n",
       "  <thead>\n",
       "    <tr style=\"text-align: right;\">\n",
       "      <th></th>\n",
       "      <th>1</th>\n",
       "      <th>2</th>\n",
       "      <th>3</th>\n",
       "    </tr>\n",
       "  </thead>\n",
       "  <tbody>\n",
       "    <tr>\n",
       "      <th>1</th>\n",
       "      <td>1.000000</td>\n",
       "      <td>0.014640</td>\n",
       "      <td>0.000236</td>\n",
       "    </tr>\n",
       "    <tr>\n",
       "      <th>2</th>\n",
       "      <td>0.014640</td>\n",
       "      <td>1.000000</td>\n",
       "      <td>0.770907</td>\n",
       "    </tr>\n",
       "    <tr>\n",
       "      <th>3</th>\n",
       "      <td>0.000236</td>\n",
       "      <td>0.770907</td>\n",
       "      <td>1.000000</td>\n",
       "    </tr>\n",
       "  </tbody>\n",
       "</table>\n",
       "</div>"
      ],
      "text/plain": [
       "          1         2         3\n",
       "1  1.000000  0.014640  0.000236\n",
       "2  0.014640  1.000000  0.770907\n",
       "3  0.000236  0.770907  1.000000"
      ]
     },
     "metadata": {},
     "output_type": "display_data"
    },
    {
     "name": "stdout",
     "output_type": "stream",
     "text": [
      "Times Kruskal-Wallis test p-value: 6.436353614735727e-06\n"
     ]
    },
    {
     "data": {
      "text/html": [
       "<div>\n",
       "<style scoped>\n",
       "    .dataframe tbody tr th:only-of-type {\n",
       "        vertical-align: middle;\n",
       "    }\n",
       "\n",
       "    .dataframe tbody tr th {\n",
       "        vertical-align: top;\n",
       "    }\n",
       "\n",
       "    .dataframe thead th {\n",
       "        text-align: right;\n",
       "    }\n",
       "</style>\n",
       "<table border=\"1\" class=\"dataframe\">\n",
       "  <thead>\n",
       "    <tr style=\"text-align: right;\">\n",
       "      <th></th>\n",
       "      <th>1</th>\n",
       "      <th>2</th>\n",
       "      <th>3</th>\n",
       "    </tr>\n",
       "  </thead>\n",
       "  <tbody>\n",
       "    <tr>\n",
       "      <th>1</th>\n",
       "      <td>1.000000</td>\n",
       "      <td>0.098626</td>\n",
       "      <td>0.000003</td>\n",
       "    </tr>\n",
       "    <tr>\n",
       "      <th>2</th>\n",
       "      <td>0.098626</td>\n",
       "      <td>1.000000</td>\n",
       "      <td>0.018253</td>\n",
       "    </tr>\n",
       "    <tr>\n",
       "      <th>3</th>\n",
       "      <td>0.000003</td>\n",
       "      <td>0.018253</td>\n",
       "      <td>1.000000</td>\n",
       "    </tr>\n",
       "  </tbody>\n",
       "</table>\n",
       "</div>"
      ],
      "text/plain": [
       "          1         2         3\n",
       "1  1.000000  0.098626  0.000003\n",
       "2  0.098626  1.000000  0.018253\n",
       "3  0.000003  0.018253  1.000000"
      ]
     },
     "metadata": {},
     "output_type": "display_data"
    }
   ],
   "source": [
    "# Perform Kruskal-Wallis test\n",
    "kw_statistic, p_value = kruskal(svm_scores, rf_scores, cat_scores)\n",
    "print(\"Accuracy Kruskal-Wallis test p-value:\", p_value)\n",
    "# Perform post hoc analysis\n",
    "display(sp.posthoc_dunn([svm_scores, rf_scores, cat_scores], p_adjust = 'bonferroni'))\n",
    "\n",
    "kw_statistic, p_value = kruskal(svm_F1_scores, rf_F1_scores, cat_F1_scores)\n",
    "print(\"F1-score Kruskal-Wallis test p-value:\", p_value)\n",
    "# Perform post hoc analysis\n",
    "display(sp.posthoc_dunn([svm_F1_scores, rf_F1_scores, cat_F1_scores], p_adjust = 'bonferroni'))\n",
    "\n",
    "kw_statistic, p_value = kruskal(svm_times, rf_times, cat_times)\n",
    "print(\"Times Kruskal-Wallis test p-value:\", p_value)\n",
    "# Perform post hoc analysis\n",
    "display(sp.posthoc_dunn([svm_times, rf_times, cat_times], p_adjust = 'bonferroni'))"
   ]
  },
  {
   "cell_type": "code",
   "execution_count": 8,
   "id": "f7971777-1971-4534-a1c9-4d243a5855b0",
   "metadata": {
    "colab": {
     "base_uri": "https://localhost:8080/",
     "height": 318
    },
    "executionInfo": {
     "elapsed": 2964,
     "status": "ok",
     "timestamp": 1627713362808,
     "user": {
      "displayName": "Alberto Antonietti",
      "photoUrl": "",
      "userId": "01395456090103269906"
     },
     "user_tz": -120
    },
    "id": "AkDyzXmunNk-",
    "outputId": "1d2d5f5b-0d40-468f-91aa-4eadce043671",
    "tags": []
   },
   "outputs": [
    {
     "data": {
      "image/png": "[encoded data removed]",
      "text/plain": [
       "<Figure size 500x400 with 1 Axes>"
      ]
     },
     "metadata": {},
     "output_type": "display_data"
    },
    {
     "data": {
      "image/png": "[encoded data removed]",
      "text/plain": [
       "<Figure size 500x400 with 1 Axes>"
      ]
     },
     "metadata": {},
     "output_type": "display_data"
    }
   ],
   "source": [
    "scores = {\"SVM\": svm_scores, \"RF\": rf_scores, \"CAT\": cat_scores}\n",
    "F1_scores = {\"SVM\": svm_F1_scores, \"RF\": rf_F1_scores, \"CAT\": cat_F1_scores}\n",
    "markers = [\"o\", \"o\", \"o\", \"o\"]\n",
    "colors = [\"black\", \"red\", \"blue\"]\n",
    "\n",
    "fig = plt.figure(figsize=(5, 4))\n",
    "for m, model in enumerate([\"SVM\", \"RF\", \"CAT\"]):\n",
    "    accuracies = np.array(scores[model]) * 100.0\n",
    "    plt.plot(np.random.normal(m, 0.05, len(accuracies)), accuracies, color=colors[m], alpha=0.25, ms=7, marker=markers[m], linestyle=\"None\", label=model)\n",
    "    \n",
    "    dataframe = pd.DataFrame(accuracies)\n",
    "    dataframe.boxplot(positions=[m], patch_artist=False, widths=(0.25),\n",
    "                      boxprops=boxprops, medianprops=medianprops, whiskerprops=whiskerprops, capprops=capprops,\n",
    "                      showfliers=False, grid=False, ax=plt.gca())\n",
    "\n",
    "plt.ylabel(\"Accuracy [%]\")\n",
    "plt.gca().spines['right'].set_visible(False)\n",
    "plt.gca().spines['top'].set_visible(False)\n",
    "plt.box(\"off\")\n",
    "plt.xticks(range(3), labels=[\"SVM\", \"RF\", \"CAT\"])\n",
    "plt.tight_layout()\n",
    "#plt.ylim(90, 103)\n",
    "\n",
    "plt.savefig(\"acc_superreducedfeatures_UniMiB_binary.png\", dpi=900)\n",
    "\n",
    "fig = plt.figure(figsize=(5, 4))\n",
    "for m, model in enumerate([\"SVM\", \"RF\", \"CAT\"]):\n",
    "    accuracies = np.array(F1_scores[model]) * 100.0\n",
    "    plt.plot(np.random.normal(m, 0.05, len(accuracies)), accuracies, color=colors[m], alpha=0.25, ms=7, marker=markers[m], linestyle=\"None\", label=model)\n",
    "    \n",
    "    dataframe = pd.DataFrame(accuracies)\n",
    "    dataframe.boxplot(positions=[m], patch_artist=False, widths=(0.25),\n",
    "                      boxprops=boxprops, medianprops=medianprops, whiskerprops=whiskerprops, capprops=capprops,\n",
    "                      showfliers=False, grid=False, ax=plt.gca())\n",
    "\n",
    "plt.ylabel(\"F1 score [%]\")\n",
    "plt.gca().spines['right'].set_visible(False)\n",
    "plt.gca().spines['top'].set_visible(False)\n",
    "plt.box(\"off\")\n",
    "plt.xticks(range(3), labels=[\"SVM\", \"RF\", \"CAT\"])\n",
    "plt.tight_layout()\n",
    "#plt.ylim(90, 103)\n",
    "plt.savefig(\"F1_superreducedfeatures_UniMiB_binary.png\", dpi=900)\n",
    "\n",
    "plt.show()"
   ]
  },
  {
   "cell_type": "code",
   "execution_count": 9,
   "id": "e922a25c-0da5-45a9-9141-399faef4169a",
   "metadata": {
    "tags": []
   },
   "outputs": [
    {
     "data": {
      "image/png": "[encoded data removed]",
      "text/plain": [
       "<Figure size 640x480 with 2 Axes>"
      ]
     },
     "metadata": {},
     "output_type": "display_data"
    },
    {
     "data": {
      "image/png": "[encoded data removed]",
      "text/plain": [
       "<Figure size 640x480 with 2 Axes>"
      ]
     },
     "metadata": {},
     "output_type": "display_data"
    },
    {
     "data": {
      "image/png": "[encoded data removed]",
      "text/plain": [
       "<Figure size 640x480 with 2 Axes>"
      ]
     },
     "metadata": {},
     "output_type": "display_data"
    }
   ],
   "source": [
    "classes = [\"Non falls\", \"Falls\"]\n",
    "\n",
    "disp = ConfusionMatrixDisplay(confusion_matrix=np.mean(svm_conf_matrices, axis=0)*100, display_labels=classes)\n",
    "disp.plot(cmap=\"gray\", values_format=\".0f\")\n",
    "for labels in disp.text_.ravel():\n",
    "    labels.set_fontsize(10)\n",
    "plt.title(\"SVM\")\n",
    "plt.savefig(\"Confusion_SVM_superreducedfeatures_UniMiB_binary.png\", dpi=900)\n",
    "plt.show()\n",
    "\n",
    "disp = ConfusionMatrixDisplay(confusion_matrix=np.mean(rf_conf_matrices, axis=0)*100, display_labels=classes)\n",
    "disp.plot(cmap=\"gray\", values_format=\".0f\")\n",
    "for labels in disp.text_.ravel():\n",
    "    labels.set_fontsize(10)\n",
    "plt.title(\"RF\")\n",
    "plt.savefig(\"Confusion_RF_superreducedfeatures_UniMiB_binary.png\", dpi=900)\n",
    "plt.show()\n",
    "\n",
    "disp = ConfusionMatrixDisplay(confusion_matrix=np.mean(cat_conf_matrices, axis=0)*100, display_labels=classes)\n",
    "disp.plot(cmap=\"gray\", values_format=\".0f\")\n",
    "for labels in disp.text_.ravel():\n",
    "    labels.set_fontsize(10)\n",
    "plt.title(\"CAT\")\n",
    "plt.savefig(\"Confusion_CAT_superreducedfeatures_UniMiB_binary.png\", dpi=900)\n",
    "plt.show()"
   ]
  },
  {
   "cell_type": "code",
   "execution_count": 10,
   "id": "d6669461-bde3-4f82-a9f5-7de9cdc74e87",
   "metadata": {
    "tags": []
   },
   "outputs": [
    {
     "name": "stdout",
     "output_type": "stream",
     "text": [
      "          Feature  Importance\n",
      "17  z_maxmin_diff   13.613688\n",
      "1          y_mean   10.570088\n",
      "5           z_std   10.438540\n",
      "15  x_maxmin_diff    8.429150\n",
      "3           x_std    6.732230\n",
      "10          y_min    6.144592\n",
      "16  y_maxmin_diff    6.049061\n",
      "8           z_aad    4.080443\n",
      "6           x_aad    3.905104\n",
      "14          z_max    2.883994\n",
      "4           y_std    2.467963\n",
      "2          z_mean    2.246698\n",
      "20       z_median    2.152213\n",
      "13          y_max    2.136963\n",
      "24          x_IQR    2.079270\n",
      "0          x_mean    2.009514\n",
      "7           y_aad    1.983254\n",
      "19       y_median    1.952266\n",
      "25          y_IQR    1.731710\n",
      "9           x_min    1.513064\n",
      "11          z_min    1.407300\n",
      "26          z_IQR    1.122455\n",
      "12          x_max    0.953594\n",
      "22          y_mad    0.936557\n",
      "18       x_median    0.891550\n",
      "21          x_mad    0.890583\n",
      "23          z_mad    0.678157\n",
      "          Feature  Importance\n",
      "1          y_mean   18.736074\n",
      "17  z_maxmin_diff    9.366306\n",
      "10          y_min    8.181263\n",
      "3           x_std    7.665819\n",
      "5           z_std    6.948246\n",
      "16  y_maxmin_diff    5.028908\n",
      "21          x_mad    4.303361\n",
      "15  x_maxmin_diff    3.242183\n",
      "14          z_max    3.211127\n",
      "20       z_median    2.787966\n",
      "0          x_mean    2.783707\n",
      "22          y_mad    2.586573\n",
      "6           x_aad    2.547531\n",
      "8           z_aad    2.461144\n",
      "2          z_mean    2.392574\n",
      "11          z_min    2.080264\n",
      "12          x_max    1.987416\n",
      "13          y_max    1.785420\n",
      "9           x_min    1.678604\n",
      "4           y_std    1.580850\n",
      "24          x_IQR    1.534889\n",
      "23          z_mad    1.376931\n",
      "7           y_aad    1.361727\n",
      "18       x_median    1.286289\n",
      "19       y_median    1.268166\n",
      "25          y_IQR    1.043758\n",
      "26          z_IQR    0.772904\n",
      "0.7789882055266858\n"
     ]
    }
   ],
   "source": [
    "rf_feature_importances = np.mean(rf_importances, axis=0) * 100.0\n",
    "cat_feature_importances = np.mean(cat_importances, axis=0)\n",
    "\n",
    "# Create a DataFrame to display feature names and their corresponding importance scores\n",
    "rf_feature_importance_df = pd.DataFrame({'Feature': list(X.columns), 'Importance': rf_feature_importances})\n",
    "\n",
    "# Sort the features based on importance in descending order\n",
    "rf_feature_importance_df = rf_feature_importance_df.sort_values(by='Importance', ascending=False)\n",
    "\n",
    "\n",
    "# Create a DataFrame to display feature names and their corresponding importance scores\n",
    "cat_feature_importance_df = pd.DataFrame({'Feature': list(X.columns), 'Importance': cat_feature_importances})\n",
    "\n",
    "# Sort the features based on importance in descending order\n",
    "cat_feature_importance_df = cat_feature_importance_df.sort_values(by='Importance', ascending=False)\n",
    "\n",
    "# Print or visualize the feature importance\n",
    "print(rf_feature_importance_df)\n",
    "print(cat_feature_importance_df)\n",
    "\n",
    "# Check if there is a correlation between importances in RF and CAT\n",
    "print(np.corrcoef(rf_feature_importances, cat_feature_importances)[0, 1])"
   ]
  },
  {
   "cell_type": "code",
   "execution_count": 11,
   "id": "5f848771-7d3b-46bd-a21c-b0c3161f68dc",
   "metadata": {
    "tags": []
   },
   "outputs": [
    {
     "name": "stdout",
     "output_type": "stream",
     "text": [
      "27.404058904324085 33.972454022351485 38.623487073324426 0\n",
      "27.02979746891795 41.572739917573465 31.397462613508587 0\n"
     ]
    }
   ],
   "source": [
    "rf_x_imp = 0\n",
    "rf_y_imp = 0\n",
    "rf_z_imp = 0\n",
    "rf_fft_imp = 0\n",
    "\n",
    "for feat, imp in zip(rf_feature_importance_df[\"Feature\"], rf_feature_importance_df[\"Importance\"]):\n",
    "    if feat[0] == \"x\":\n",
    "        rf_x_imp += imp\n",
    "    elif feat[0] == \"y\":\n",
    "        rf_y_imp += imp\n",
    "    elif feat[0] == \"z\":\n",
    "        rf_z_imp += imp\n",
    "    if feat[-3:] == \"fft\":\n",
    "        rf_fft_imp += imp\n",
    "\n",
    "cat_x_imp = 0\n",
    "cat_y_imp = 0\n",
    "cat_z_imp = 0\n",
    "cat_fft_imp = 0\n",
    "\n",
    "for feat, imp in zip(cat_feature_importance_df[\"Feature\"], cat_feature_importance_df[\"Importance\"]):\n",
    "    if feat[0] == \"x\":\n",
    "        cat_x_imp += imp\n",
    "    elif feat[0] == \"y\":\n",
    "        cat_y_imp += imp\n",
    "    elif feat[0] == \"z\":\n",
    "        cat_z_imp += imp\n",
    "    if feat[-3:] == \"fft\":\n",
    "        cat_fft_imp += imp\n",
    "        \n",
    "print(rf_x_imp, rf_y_imp, rf_z_imp, rf_fft_imp)\n",
    "print(cat_x_imp, cat_y_imp, cat_z_imp, cat_fft_imp)"
   ]
  },
  {
   "cell_type": "code",
   "execution_count": 12,
   "id": "c24ae054-96b1-4358-98bd-15a12990a4a3",
   "metadata": {
    "tags": []
   },
   "outputs": [
    {
     "data": {
      "text/plain": [
       "27"
      ]
     },
     "execution_count": 12,
     "metadata": {},
     "output_type": "execute_result"
    }
   ],
   "source": [
    "len(rf_feature_importance_df[\"Feature\"])"
   ]
  },
  {
   "cell_type": "code",
   "execution_count": null,
   "id": "5b640245-26c6-4de3-b779-6067c2c3f61e",
   "metadata": {},
   "outputs": [],
   "source": []
  }
 ],
 "metadata": {
  "kernelspec": {
   "display_name": "Python 3 (ipykernel)",
   "language": "python",
   "name": "python3"
  },
  "language_info": {
   "codemirror_mode": {
    "name": "ipython",
    "version": 3
   },
   "file_extension": ".py",
   "mimetype": "text/x-python",
   "name": "python",
   "nbconvert_exporter": "python",
   "pygments_lexer": "ipython3",
   "version": "3.10.12"
  }
 },
 "nbformat": 4,
 "nbformat_minor": 5
}
